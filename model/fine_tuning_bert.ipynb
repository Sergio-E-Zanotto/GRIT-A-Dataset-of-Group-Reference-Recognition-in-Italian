{
 "cells": [
  {
   "cell_type": "markdown",
   "id": "c17642ba-9b0e-4a57-b021-e3753205adcd",
   "metadata": {},
   "source": [
    "# Fine-Tuning BERT Model for Italian Group Reference Recognition\n",
    "\n",
    "### Author: Qi Yu"
   ]
  },
  {
   "cell_type": "code",
   "execution_count": 1,
   "id": "a19bc0ad-b23a-4f8b-86b4-a846f4d7fa10",
   "metadata": {},
   "outputs": [
    {
     "data": {
      "text/plain": [
       "0"
      ]
     },
     "execution_count": 1,
     "metadata": {},
     "output_type": "execute_result"
    }
   ],
   "source": [
    "import torch\n",
    "\n",
    "device = torch.device(\"cuda\" if torch.cuda.is_available() else \"cpu\")\n",
    "\n",
    "torch.cuda.set_device(0)\n",
    "torch.cuda.current_device()"
   ]
  },
  {
   "cell_type": "code",
   "execution_count": 3,
   "id": "b7ded1f2-704c-4ef4-8749-7d53768cce2c",
   "metadata": {},
   "outputs": [
    {
     "name": "stderr",
     "output_type": "stream",
     "text": [
      "2023-10-20 08:48:40.843193: I tensorflow/core/platform/cpu_feature_guard.cc:193] This TensorFlow binary is optimized with oneAPI Deep Neural Network Library (oneDNN) to use the following CPU instructions in performance-critical operations:  AVX2 FMA\n",
      "To enable them in other operations, rebuild TensorFlow with the appropriate compiler flags.\n"
     ]
    }
   ],
   "source": [
    "import random\n",
    "import pandas as pd\n",
    "import numpy as np\n",
    "import matplotlib.pyplot as plt\n",
    "import tensorflow as tf\n",
    "import seaborn as sns\n",
    "from datasets import Dataset, DatasetDict, load_metric\n",
    "from sklearn.model_selection import train_test_split\n",
    "from sklearn.metrics import accuracy_score, precision_score, recall_score, f1_score, confusion_matrix, classification_report\n",
    "from transformers import AutoTokenizer, AutoModelForTokenClassification, TrainingArguments, Trainer, DataCollatorForTokenClassification"
   ]
  },
  {
   "cell_type": "code",
   "execution_count": 4,
   "id": "e6beed54-719b-4e9d-8a00-9a46649549fa",
   "metadata": {},
   "outputs": [],
   "source": [
    "RANDOM_STATE = 42\n",
    "random.seed(RANDOM_STATE)\n",
    "np.random.seed(RANDOM_STATE)\n",
    "torch.manual_seed(RANDOM_STATE)\n",
    "torch.cuda.manual_seed_all(RANDOM_STATE)\n",
    "tf.random.set_seed(RANDOM_STATE)"
   ]
  },
  {
   "cell_type": "markdown",
   "id": "070e1c75-6429-4a23-a250-c5d9f98d4b7d",
   "metadata": {},
   "source": [
    "# 1. Read in dataset"
   ]
  },
  {
   "cell_type": "code",
   "execution_count": 5,
   "id": "dedcebb1-7f74-4a25-8457-f337d12eb1d1",
   "metadata": {},
   "outputs": [],
   "source": [
    "dataset_dict = {\n",
    "    \"long\": \"./data/segmented_sentences_less_sparse.pkl\",\n",
    "    \"short\": \"./data/segmented_sentences_less_sparse_short.pkl\",\n",
    "}"
   ]
  },
  {
   "cell_type": "markdown",
   "id": "2c1bd6a6-be4f-40c3-8a21-ad3435aabcc3",
   "metadata": {},
   "source": [
    "**Comment out one of the lines in the following cell to choose which dataset to use (long or short version):**"
   ]
  },
  {
   "cell_type": "code",
   "execution_count": 6,
   "id": "5ef520f7-e5e1-4958-b4d9-196ce5a37029",
   "metadata": {},
   "outputs": [],
   "source": [
    "MODE = \"long\"\n",
    "#MODE = \"short\""
   ]
  },
  {
   "cell_type": "code",
   "execution_count": 7,
   "id": "5bdbf64f-7664-4a04-8553-a5f0f64b5c27",
   "metadata": {},
   "outputs": [
    {
     "data": {
      "text/html": [
       "<div>\n",
       "<style scoped>\n",
       "    .dataframe tbody tr th:only-of-type {\n",
       "        vertical-align: middle;\n",
       "    }\n",
       "\n",
       "    .dataframe tbody tr th {\n",
       "        vertical-align: top;\n",
       "    }\n",
       "\n",
       "    .dataframe thead th {\n",
       "        text-align: right;\n",
       "    }\n",
       "</style>\n",
       "<table border=\"1\" class=\"dataframe\">\n",
       "  <thead>\n",
       "    <tr style=\"text-align: right;\">\n",
       "      <th></th>\n",
       "      <th>document_index</th>\n",
       "      <th>document_text_tokenized</th>\n",
       "      <th>token_labels_binary</th>\n",
       "      <th>token_labels_iob</th>\n",
       "    </tr>\n",
       "  </thead>\n",
       "  <tbody>\n",
       "    <tr>\n",
       "      <th>0</th>\n",
       "      <td>0</td>\n",
       "      <td>[Il, 7, agosto, 1721, sposò, il, principe, ere...</td>\n",
       "      <td>[0, 0, 0, 0, 0, 1, 1, 1, 1, 1, 1, 1, 1, 0]</td>\n",
       "      <td>[O, O, O, O, O, B, I, I, I, I, I, I, I, O]</td>\n",
       "    </tr>\n",
       "    <tr>\n",
       "      <th>1</th>\n",
       "      <td>0</td>\n",
       "      <td>[Alla, morte, di, Federico, IV, ,, nel, 1730, ...</td>\n",
       "      <td>[0, 0, 1, 1, 1, 0, 0, 0, 0, 1, 0, 0, 0, 0, 1, ...</td>\n",
       "      <td>[O, O, B, I, I, O, O, O, O, B, O, O, O, O, B, ...</td>\n",
       "    </tr>\n",
       "    <tr>\n",
       "      <th>2</th>\n",
       "      <td>1</td>\n",
       "      <td>[Saluto, a, nome, dell', Assemblea, i, docenti...</td>\n",
       "      <td>[0, 0, 0, 1, 1, 1, 1, 0, 1, 1, 0, 0, 0, 0, 0, ...</td>\n",
       "      <td>[O, O, O, B, I, B, I, O, B, I, O, O, O, O, O, ...</td>\n",
       "    </tr>\n",
       "    <tr>\n",
       "      <th>3</th>\n",
       "      <td>2</td>\n",
       "      <td>[Quando, Cassie, viene, a, conoscenza, di, qua...</td>\n",
       "      <td>[0, 1, 0, 0, 0, 0, 0, 0, 0, 0, 0]</td>\n",
       "      <td>[O, B, O, O, O, O, O, O, O, O, O]</td>\n",
       "    </tr>\n",
       "    <tr>\n",
       "      <th>4</th>\n",
       "      <td>2</td>\n",
       "      <td>[Non, capisce, come, Edmund, possa, aver, fatt...</td>\n",
       "      <td>[0, 0, 0, 1, 0, 0, 0, 0, 0, 0, 0, 0, 0, 0, 0, ...</td>\n",
       "      <td>[O, O, O, B, O, O, O, O, O, O, O, O, O, O, O, ...</td>\n",
       "    </tr>\n",
       "    <tr>\n",
       "      <th>...</th>\n",
       "      <td>...</td>\n",
       "      <td>...</td>\n",
       "      <td>...</td>\n",
       "      <td>...</td>\n",
       "    </tr>\n",
       "    <tr>\n",
       "      <th>5343</th>\n",
       "      <td>997</td>\n",
       "      <td>[Questo, perché, ,, a, seguito, della, costruz...</td>\n",
       "      <td>[0, 0, 0, 0, 0, 0, 0, 0, 0, 0, 0, 0, 0, 0, 0, ...</td>\n",
       "      <td>[O, O, O, O, O, O, O, O, O, O, O, O, O, O, O, ...</td>\n",
       "    </tr>\n",
       "    <tr>\n",
       "      <th>5345</th>\n",
       "      <td>998</td>\n",
       "      <td>[Verso, la, fine, del, XIX, secolo, ,, la, sto...</td>\n",
       "      <td>[0, 0, 0, 0, 0, 0, 0, 0, 0, 0, 0, 0, 0, 0, 0, ...</td>\n",
       "      <td>[O, O, O, O, O, O, O, O, O, O, O, O, O, O, O, ...</td>\n",
       "    </tr>\n",
       "    <tr>\n",
       "      <th>5346</th>\n",
       "      <td>998</td>\n",
       "      <td>[A, testimonianza, di, ciò, ,, in, Irlanda, in...</td>\n",
       "      <td>[0, 0, 0, 0, 0, 0, 0, 0, 0, 0, 1, 1, 1, 1, 0, ...</td>\n",
       "      <td>[O, O, O, O, O, O, O, O, O, O, B, I, I, I, O, ...</td>\n",
       "    </tr>\n",
       "    <tr>\n",
       "      <th>5347</th>\n",
       "      <td>999</td>\n",
       "      <td>[Nel, 1738, Goldoni, diede, al, teatro, San, S...</td>\n",
       "      <td>[0, 0, 1, 0, 0, 0, 1, 1, 0, 0, 0, 0, 0, 0, 0, ...</td>\n",
       "      <td>[O, O, B, O, O, O, B, I, O, O, O, O, O, O, O, ...</td>\n",
       "    </tr>\n",
       "    <tr>\n",
       "      <th>5348</th>\n",
       "      <td>999</td>\n",
       "      <td>[A, Venezia, ,, dopo, la, stesura, della, sua,...</td>\n",
       "      <td>[0, 0, 0, 0, 0, 0, 0, 0, 0, 0, 0, 0, 0, 0, 1, ...</td>\n",
       "      <td>[O, O, O, O, O, O, O, O, O, O, O, O, O, O, B, ...</td>\n",
       "    </tr>\n",
       "  </tbody>\n",
       "</table>\n",
       "<p>3711 rows × 4 columns</p>\n",
       "</div>"
      ],
      "text/plain": [
       "      document_index                            document_text_tokenized  \\\n",
       "0                  0  [Il, 7, agosto, 1721, sposò, il, principe, ere...   \n",
       "1                  0  [Alla, morte, di, Federico, IV, ,, nel, 1730, ...   \n",
       "2                  1  [Saluto, a, nome, dell', Assemblea, i, docenti...   \n",
       "3                  2  [Quando, Cassie, viene, a, conoscenza, di, qua...   \n",
       "4                  2  [Non, capisce, come, Edmund, possa, aver, fatt...   \n",
       "...              ...                                                ...   \n",
       "5343             997  [Questo, perché, ,, a, seguito, della, costruz...   \n",
       "5345             998  [Verso, la, fine, del, XIX, secolo, ,, la, sto...   \n",
       "5346             998  [A, testimonianza, di, ciò, ,, in, Irlanda, in...   \n",
       "5347             999  [Nel, 1738, Goldoni, diede, al, teatro, San, S...   \n",
       "5348             999  [A, Venezia, ,, dopo, la, stesura, della, sua,...   \n",
       "\n",
       "                                    token_labels_binary  \\\n",
       "0            [0, 0, 0, 0, 0, 1, 1, 1, 1, 1, 1, 1, 1, 0]   \n",
       "1     [0, 0, 1, 1, 1, 0, 0, 0, 0, 1, 0, 0, 0, 0, 1, ...   \n",
       "2     [0, 0, 0, 1, 1, 1, 1, 0, 1, 1, 0, 0, 0, 0, 0, ...   \n",
       "3                     [0, 1, 0, 0, 0, 0, 0, 0, 0, 0, 0]   \n",
       "4     [0, 0, 0, 1, 0, 0, 0, 0, 0, 0, 0, 0, 0, 0, 0, ...   \n",
       "...                                                 ...   \n",
       "5343  [0, 0, 0, 0, 0, 0, 0, 0, 0, 0, 0, 0, 0, 0, 0, ...   \n",
       "5345  [0, 0, 0, 0, 0, 0, 0, 0, 0, 0, 0, 0, 0, 0, 0, ...   \n",
       "5346  [0, 0, 0, 0, 0, 0, 0, 0, 0, 0, 1, 1, 1, 1, 0, ...   \n",
       "5347  [0, 0, 1, 0, 0, 0, 1, 1, 0, 0, 0, 0, 0, 0, 0, ...   \n",
       "5348  [0, 0, 0, 0, 0, 0, 0, 0, 0, 0, 0, 0, 0, 0, 1, ...   \n",
       "\n",
       "                                       token_labels_iob  \n",
       "0            [O, O, O, O, O, B, I, I, I, I, I, I, I, O]  \n",
       "1     [O, O, B, I, I, O, O, O, O, B, O, O, O, O, B, ...  \n",
       "2     [O, O, O, B, I, B, I, O, B, I, O, O, O, O, O, ...  \n",
       "3                     [O, B, O, O, O, O, O, O, O, O, O]  \n",
       "4     [O, O, O, B, O, O, O, O, O, O, O, O, O, O, O, ...  \n",
       "...                                                 ...  \n",
       "5343  [O, O, O, O, O, O, O, O, O, O, O, O, O, O, O, ...  \n",
       "5345  [O, O, O, O, O, O, O, O, O, O, O, O, O, O, O, ...  \n",
       "5346  [O, O, O, O, O, O, O, O, O, O, B, I, I, I, O, ...  \n",
       "5347  [O, O, B, O, O, O, B, I, O, O, O, O, O, O, O, ...  \n",
       "5348  [O, O, O, O, O, O, O, O, O, O, O, O, O, O, B, ...  \n",
       "\n",
       "[3711 rows x 4 columns]"
      ]
     },
     "execution_count": 7,
     "metadata": {},
     "output_type": "execute_result"
    }
   ],
   "source": [
    "df = pd.read_pickle(dataset_dict[MODE])\n",
    "df"
   ]
  },
  {
   "cell_type": "markdown",
   "id": "31dba0c5-1e0d-49b0-8df9-eb88e7d833b2",
   "metadata": {},
   "source": [
    "**Exclude unused columns:**"
   ]
  },
  {
   "cell_type": "code",
   "execution_count": 8,
   "id": "b8c9db87-012e-4824-a11e-d654401d96ac",
   "metadata": {},
   "outputs": [
    {
     "data": {
      "text/html": [
       "<div>\n",
       "<style scoped>\n",
       "    .dataframe tbody tr th:only-of-type {\n",
       "        vertical-align: middle;\n",
       "    }\n",
       "\n",
       "    .dataframe tbody tr th {\n",
       "        vertical-align: top;\n",
       "    }\n",
       "\n",
       "    .dataframe thead th {\n",
       "        text-align: right;\n",
       "    }\n",
       "</style>\n",
       "<table border=\"1\" class=\"dataframe\">\n",
       "  <thead>\n",
       "    <tr style=\"text-align: right;\">\n",
       "      <th></th>\n",
       "      <th>text</th>\n",
       "      <th>label</th>\n",
       "    </tr>\n",
       "  </thead>\n",
       "  <tbody>\n",
       "    <tr>\n",
       "      <th>0</th>\n",
       "      <td>[Il, 7, agosto, 1721, sposò, il, principe, ere...</td>\n",
       "      <td>[0, 0, 0, 0, 0, 1, 1, 1, 1, 1, 1, 1, 1, 0]</td>\n",
       "    </tr>\n",
       "    <tr>\n",
       "      <th>1</th>\n",
       "      <td>[Alla, morte, di, Federico, IV, ,, nel, 1730, ...</td>\n",
       "      <td>[0, 0, 1, 1, 1, 0, 0, 0, 0, 1, 0, 0, 0, 0, 1, ...</td>\n",
       "    </tr>\n",
       "    <tr>\n",
       "      <th>2</th>\n",
       "      <td>[Saluto, a, nome, dell', Assemblea, i, docenti...</td>\n",
       "      <td>[0, 0, 0, 1, 1, 1, 1, 0, 1, 1, 0, 0, 0, 0, 0, ...</td>\n",
       "    </tr>\n",
       "    <tr>\n",
       "      <th>3</th>\n",
       "      <td>[Quando, Cassie, viene, a, conoscenza, di, qua...</td>\n",
       "      <td>[0, 1, 0, 0, 0, 0, 0, 0, 0, 0, 0]</td>\n",
       "    </tr>\n",
       "    <tr>\n",
       "      <th>4</th>\n",
       "      <td>[Non, capisce, come, Edmund, possa, aver, fatt...</td>\n",
       "      <td>[0, 0, 0, 1, 0, 0, 0, 0, 0, 0, 0, 0, 0, 0, 0, ...</td>\n",
       "    </tr>\n",
       "    <tr>\n",
       "      <th>...</th>\n",
       "      <td>...</td>\n",
       "      <td>...</td>\n",
       "    </tr>\n",
       "    <tr>\n",
       "      <th>5343</th>\n",
       "      <td>[Questo, perché, ,, a, seguito, della, costruz...</td>\n",
       "      <td>[0, 0, 0, 0, 0, 0, 0, 0, 0, 0, 0, 0, 0, 0, 0, ...</td>\n",
       "    </tr>\n",
       "    <tr>\n",
       "      <th>5345</th>\n",
       "      <td>[Verso, la, fine, del, XIX, secolo, ,, la, sto...</td>\n",
       "      <td>[0, 0, 0, 0, 0, 0, 0, 0, 0, 0, 0, 0, 0, 0, 0, ...</td>\n",
       "    </tr>\n",
       "    <tr>\n",
       "      <th>5346</th>\n",
       "      <td>[A, testimonianza, di, ciò, ,, in, Irlanda, in...</td>\n",
       "      <td>[0, 0, 0, 0, 0, 0, 0, 0, 0, 0, 1, 1, 1, 1, 0, ...</td>\n",
       "    </tr>\n",
       "    <tr>\n",
       "      <th>5347</th>\n",
       "      <td>[Nel, 1738, Goldoni, diede, al, teatro, San, S...</td>\n",
       "      <td>[0, 0, 1, 0, 0, 0, 1, 1, 0, 0, 0, 0, 0, 0, 0, ...</td>\n",
       "    </tr>\n",
       "    <tr>\n",
       "      <th>5348</th>\n",
       "      <td>[A, Venezia, ,, dopo, la, stesura, della, sua,...</td>\n",
       "      <td>[0, 0, 0, 0, 0, 0, 0, 0, 0, 0, 0, 0, 0, 0, 1, ...</td>\n",
       "    </tr>\n",
       "  </tbody>\n",
       "</table>\n",
       "<p>3711 rows × 2 columns</p>\n",
       "</div>"
      ],
      "text/plain": [
       "                                                   text  \\\n",
       "0     [Il, 7, agosto, 1721, sposò, il, principe, ere...   \n",
       "1     [Alla, morte, di, Federico, IV, ,, nel, 1730, ...   \n",
       "2     [Saluto, a, nome, dell', Assemblea, i, docenti...   \n",
       "3     [Quando, Cassie, viene, a, conoscenza, di, qua...   \n",
       "4     [Non, capisce, come, Edmund, possa, aver, fatt...   \n",
       "...                                                 ...   \n",
       "5343  [Questo, perché, ,, a, seguito, della, costruz...   \n",
       "5345  [Verso, la, fine, del, XIX, secolo, ,, la, sto...   \n",
       "5346  [A, testimonianza, di, ciò, ,, in, Irlanda, in...   \n",
       "5347  [Nel, 1738, Goldoni, diede, al, teatro, San, S...   \n",
       "5348  [A, Venezia, ,, dopo, la, stesura, della, sua,...   \n",
       "\n",
       "                                                  label  \n",
       "0            [0, 0, 0, 0, 0, 1, 1, 1, 1, 1, 1, 1, 1, 0]  \n",
       "1     [0, 0, 1, 1, 1, 0, 0, 0, 0, 1, 0, 0, 0, 0, 1, ...  \n",
       "2     [0, 0, 0, 1, 1, 1, 1, 0, 1, 1, 0, 0, 0, 0, 0, ...  \n",
       "3                     [0, 1, 0, 0, 0, 0, 0, 0, 0, 0, 0]  \n",
       "4     [0, 0, 0, 1, 0, 0, 0, 0, 0, 0, 0, 0, 0, 0, 0, ...  \n",
       "...                                                 ...  \n",
       "5343  [0, 0, 0, 0, 0, 0, 0, 0, 0, 0, 0, 0, 0, 0, 0, ...  \n",
       "5345  [0, 0, 0, 0, 0, 0, 0, 0, 0, 0, 0, 0, 0, 0, 0, ...  \n",
       "5346  [0, 0, 0, 0, 0, 0, 0, 0, 0, 0, 1, 1, 1, 1, 0, ...  \n",
       "5347  [0, 0, 1, 0, 0, 0, 1, 1, 0, 0, 0, 0, 0, 0, 0, ...  \n",
       "5348  [0, 0, 0, 0, 0, 0, 0, 0, 0, 0, 0, 0, 0, 0, 1, ...  \n",
       "\n",
       "[3711 rows x 2 columns]"
      ]
     },
     "execution_count": 8,
     "metadata": {},
     "output_type": "execute_result"
    }
   ],
   "source": [
    "df = df.loc[:, [\"document_text_tokenized\", \"token_labels_binary\"]]\n",
    "df = df.rename(columns={\"document_text_tokenized\": \"text\", \"token_labels_binary\": \"label\"})\n",
    "df"
   ]
  },
  {
   "cell_type": "markdown",
   "id": "ef5575db-7de4-488d-90b8-14ac7e3a5883",
   "metadata": {},
   "source": [
    "# 2. Train-test split"
   ]
  },
  {
   "cell_type": "markdown",
   "id": "5e7f9544-e8d4-455a-834c-a559b14fc44c",
   "metadata": {},
   "source": [
    "**Divide the dataset into training, validation and test set in a 80/10/10 fashion:**"
   ]
  },
  {
   "cell_type": "code",
   "execution_count": 9,
   "id": "bb322ac1-9bcd-42d4-8f1c-94a99eee87b3",
   "metadata": {},
   "outputs": [
    {
     "data": {
      "text/plain": [
       "DatasetDict({\n",
       "    train: Dataset({\n",
       "        features: ['text', 'label'],\n",
       "        num_rows: 2968\n",
       "    })\n",
       "    validation: Dataset({\n",
       "        features: ['text', 'label'],\n",
       "        num_rows: 371\n",
       "    })\n",
       "    test: Dataset({\n",
       "        features: ['text', 'label'],\n",
       "        num_rows: 372\n",
       "    })\n",
       "})"
      ]
     },
     "execution_count": 9,
     "metadata": {},
     "output_type": "execute_result"
    }
   ],
   "source": [
    "df_train, df_val_test = train_test_split(df, test_size=0.2, random_state=RANDOM_STATE)\n",
    "df_val, df_test = train_test_split(df_val_test, test_size=0.5, random_state=RANDOM_STATE)\n",
    "\n",
    "df_train = df_train.reset_index(drop=True)\n",
    "df_val = df_val.reset_index(drop=True)\n",
    "df_test = df_test.reset_index(drop=True)\n",
    "\n",
    "dataset = DatasetDict({\n",
    "    \"train\": Dataset.from_pandas(df_train),\n",
    "    \"validation\": Dataset.from_pandas(df_val),\n",
    "    \"test\": Dataset.from_pandas(df_test)\n",
    "})\n",
    "\n",
    "dataset"
   ]
  },
  {
   "cell_type": "markdown",
   "id": "07b54685-4fe9-49c7-aa4a-1d6946d01715",
   "metadata": {},
   "source": [
    "**Get dataset statistics:**"
   ]
  },
  {
   "cell_type": "code",
   "execution_count": 10,
   "id": "9106b04f-9892-49a0-b188-3b7148472f3a",
   "metadata": {},
   "outputs": [],
   "source": [
    "def get_dataset_statistics(dataframe):\n",
    "    total_token_count = 0\n",
    "    gr_count = 0\n",
    "\n",
    "    for label_list in dataframe[\"label\"]:\n",
    "        total_token_count += len(label_list)\n",
    "        gr_count += len(list(filter(lambda x: x == 1, label_list)))\n",
    "    \n",
    "    print(\"Number of tokens: {}\".format(total_token_count))\n",
    "    print(\"Number of tokens labeled as group reference: {}\".format(gr_count))\n",
    "\n",
    "    all_lengths = [len(i) for i in  dataframe[\"label\"]]\n",
    "\n",
    "    plt.hist(all_lengths, bins=20, color='blue', edgecolor='black')\n",
    "    plt.xlabel('Document Length')\n",
    "    plt.ylabel('Frequency')\n",
    "    plt.show()"
   ]
  },
  {
   "cell_type": "code",
   "execution_count": 11,
   "id": "98f063e1-0206-4656-8631-97f56e00793f",
   "metadata": {},
   "outputs": [
    {
     "name": "stdout",
     "output_type": "stream",
     "text": [
      "Number of tokens: 106482\n",
      "Number of tokens labeled as group reference: 18043\n"
     ]
    },
    {
     "data": {
      "image/png": "[encoded data removed]",
      "text/plain": [
       "<Figure size 640x480 with 1 Axes>"
      ]
     },
     "metadata": {},
     "output_type": "display_data"
    }
   ],
   "source": [
    "get_dataset_statistics(df_train)"
   ]
  },
  {
   "cell_type": "code",
   "execution_count": 12,
   "id": "8acc9bac-ad3c-4f20-bba7-49f739cd4a37",
   "metadata": {},
   "outputs": [
    {
     "name": "stdout",
     "output_type": "stream",
     "text": [
      "Number of tokens: 13495\n",
      "Number of tokens labeled as group reference: 2379\n"
     ]
    },
    {
     "data": {
      "image/png": "[encoded data removed]",
      "text/plain": [
       "<Figure size 640x480 with 1 Axes>"
      ]
     },
     "metadata": {},
     "output_type": "display_data"
    }
   ],
   "source": [
    "get_dataset_statistics(df_val)"
   ]
  },
  {
   "cell_type": "code",
   "execution_count": 13,
   "id": "fdd078bd-a040-40ee-8b12-c8cfc1026083",
   "metadata": {},
   "outputs": [
    {
     "name": "stdout",
     "output_type": "stream",
     "text": [
      "Number of tokens: 13821\n",
      "Number of tokens labeled as group reference: 2433\n"
     ]
    },
    {
     "data": {
      "image/png": "[encoded data removed]",
      "text/plain": [
       "<Figure size 640x480 with 1 Axes>"
      ]
     },
     "metadata": {},
     "output_type": "display_data"
    }
   ],
   "source": [
    "get_dataset_statistics(df_test)"
   ]
  },
  {
   "cell_type": "markdown",
   "id": "6354f237-5bea-4ceb-9b8f-a8c5ee1982c2",
   "metadata": {},
   "source": [
    "# 3. Train model"
   ]
  },
  {
   "cell_type": "code",
   "execution_count": 14,
   "id": "36c6df20-7036-4d88-b227-ab5a7238df4b",
   "metadata": {},
   "outputs": [],
   "source": [
    "MODEL_CHECKPOINT = \"dbmdz/bert-base-italian-cased\""
   ]
  },
  {
   "cell_type": "markdown",
   "id": "0d6b6e15-3bff-464d-9569-0b60b143d6ce",
   "metadata": {},
   "source": [
    "## 3.1 Tokenization"
   ]
  },
  {
   "cell_type": "code",
   "execution_count": 15,
   "id": "f3270f3e-b31e-4f01-b074-4e191f560e82",
   "metadata": {},
   "outputs": [],
   "source": [
    "tokenizer = AutoTokenizer.from_pretrained(MODEL_CHECKPOINT)"
   ]
  },
  {
   "cell_type": "markdown",
   "id": "4b195f6b-2136-4a26-8763-a307d697cf9f",
   "metadata": {},
   "source": [
    "**Run tokenizer on all texts to find out the maximal length:**"
   ]
  },
  {
   "cell_type": "code",
   "execution_count": 16,
   "id": "6f177852-c244-44fe-b0f6-6ef95be7846b",
   "metadata": {},
   "outputs": [
    {
     "name": "stdout",
     "output_type": "stream",
     "text": [
      "Max sentence length:  329\n"
     ]
    }
   ],
   "source": [
    "max_len = 0\n",
    "\n",
    "for text in df[\"text\"]:\n",
    "    input_ids = tokenizer.encode(text, \n",
    "                                 is_split_into_words=True)\n",
    "    max_len = max(max_len, len(input_ids))\n",
    "\n",
    "print('Max sentence length: ', max_len)"
   ]
  },
  {
   "cell_type": "markdown",
   "id": "40c8daac-5f97-4c4d-8f6d-f521a7365a8e",
   "metadata": {},
   "source": [
    "**Propagate a word's original label to wordpieces:**\n",
    "\n",
    "Reference:\n",
    "https://medium.com/@andrewmarmon/fine-tuned-named-entity-recognition-with-hugging-face-bert-d51d4cb3d7b5"
   ]
  },
  {
   "cell_type": "code",
   "execution_count": 17,
   "id": "91611a72-661d-4e2a-9bf2-bf6a21b4d810",
   "metadata": {},
   "outputs": [],
   "source": [
    "def tokenize_and_align_labels(examples):\n",
    "    label_all_tokens = True\n",
    "    \n",
    "    tokenized_inputs = tokenizer(\n",
    "        examples[\"text\"], \n",
    "        is_split_into_words=True,  \n",
    "        padding = \"max_length\", \n",
    "        truncation = True, \n",
    "        max_length = max_len,\n",
    "        return_tensors=\"pt\"\n",
    "    )\n",
    "\n",
    "    labels = []\n",
    "    \n",
    "    for i, label in enumerate(examples[\"label\"]):\n",
    "        word_ids = tokenized_inputs.word_ids(batch_index=i)\n",
    "        previous_word_idx = None\n",
    "        label_ids = []\n",
    "        \n",
    "        for word_idx in word_ids:\n",
    "            if word_idx is None:\n",
    "                label_ids.append(-100)\n",
    "            else:\n",
    "                if word_idx != previous_word_idx:\n",
    "                    label_ids.append(label[word_idx])\n",
    "                else:\n",
    "                    label_ids.append(label[previous_word_idx])\n",
    "                    \n",
    "            previous_word_idx = word_idx\n",
    "        \n",
    "        labels.append(label_ids)\n",
    "        \n",
    "    tokenized_inputs[\"labels\"] = labels\n",
    "    \n",
    "    return tokenized_inputs"
   ]
  },
  {
   "cell_type": "code",
   "execution_count": 18,
   "id": "47ee3cd7-d48f-4009-a2c7-97e016bed30a",
   "metadata": {},
   "outputs": [
    {
     "data": {
      "application/vnd.jupyter.widget-view+json": {
       "model_id": "",
       "version_major": 2,
       "version_minor": 0
      },
      "text/plain": [
       "Map:   0%|          | 0/2968 [00:00<?, ? examples/s]"
      ]
     },
     "metadata": {},
     "output_type": "display_data"
    },
    {
     "data": {
      "application/vnd.jupyter.widget-view+json": {
       "model_id": "",
       "version_major": 2,
       "version_minor": 0
      },
      "text/plain": [
       "Map:   0%|          | 0/371 [00:00<?, ? examples/s]"
      ]
     },
     "metadata": {},
     "output_type": "display_data"
    },
    {
     "data": {
      "application/vnd.jupyter.widget-view+json": {
       "model_id": "",
       "version_major": 2,
       "version_minor": 0
      },
      "text/plain": [
       "Map:   0%|          | 0/372 [00:00<?, ? examples/s]"
      ]
     },
     "metadata": {},
     "output_type": "display_data"
    }
   ],
   "source": [
    "train_tokenized_datasets = dataset[\"train\"].map(tokenize_and_align_labels, batched=True, remove_columns=[\"text\", \"label\"])\n",
    "val_tokenized_datasets = dataset[\"validation\"].map(tokenize_and_align_labels, batched=True, remove_columns=[\"text\", \"label\"])\n",
    "test_tokenized_datasets = dataset[\"test\"].map(tokenize_and_align_labels, batched=True, remove_columns=[\"text\", \"label\"])"
   ]
  },
  {
   "cell_type": "markdown",
   "id": "afeef73d-359a-4a0f-87a6-c6961d99fd13",
   "metadata": {},
   "source": [
    "## 3.2 Training and tuning hyperparameters"
   ]
  },
  {
   "cell_type": "markdown",
   "id": "fb715cec-979e-4e51-bc43-deeb0d6d0f3d",
   "metadata": {},
   "source": [
    "**Define hyperparameters:**\n",
    "\n",
    "Using 2 Epochs: we observed that the validation loss start increasing largely after the 2nd epoch, indicating an overfit."
   ]
  },
  {
   "cell_type": "code",
   "execution_count": 19,
   "id": "4fb5f0df-9e05-4574-aebe-7fb73d6642ee",
   "metadata": {},
   "outputs": [],
   "source": [
    "# Specifying batch size: For fine-tuning BERT on a specific task, the authors recommend a batch size of 16 or 32.\n",
    "BATCH_SIZE = 16\n",
    "\n",
    "# Number of training epochs (authors recommend between 2 and 4)\n",
    "EPOCHS = 2"
   ]
  },
  {
   "cell_type": "code",
   "execution_count": 20,
   "id": "b3eaa77d-b78a-4917-b4d5-aac3cf7e1660",
   "metadata": {},
   "outputs": [
    {
     "name": "stderr",
     "output_type": "stream",
     "text": [
      "Some weights of the model checkpoint at dbmdz/bert-base-italian-cased were not used when initializing BertForTokenClassification: ['cls.predictions.bias', 'cls.predictions.transform.LayerNorm.weight', 'cls.seq_relationship.weight', 'cls.predictions.transform.dense.bias', 'cls.seq_relationship.bias', 'cls.predictions.transform.dense.weight', 'cls.predictions.transform.LayerNorm.bias', 'cls.predictions.decoder.weight']\n",
      "- This IS expected if you are initializing BertForTokenClassification from the checkpoint of a model trained on another task or with another architecture (e.g. initializing a BertForSequenceClassification model from a BertForPreTraining model).\n",
      "- This IS NOT expected if you are initializing BertForTokenClassification from the checkpoint of a model that you expect to be exactly identical (initializing a BertForSequenceClassification model from a BertForSequenceClassification model).\n",
      "Some weights of BertForTokenClassification were not initialized from the model checkpoint at dbmdz/bert-base-italian-cased and are newly initialized: ['classifier.bias', 'classifier.weight']\n",
      "You should probably TRAIN this model on a down-stream task to be able to use it for predictions and inference.\n"
     ]
    }
   ],
   "source": [
    "model = AutoModelForTokenClassification.from_pretrained(MODEL_CHECKPOINT, num_labels=2)"
   ]
  },
  {
   "cell_type": "code",
   "execution_count": 21,
   "id": "76316a08-3ae9-48a8-a51a-a8144f1564a5",
   "metadata": {},
   "outputs": [],
   "source": [
    "args = TrainingArguments(\n",
    "    f\"bert-base-italian-cased-ner\",\n",
    "    evaluation_strategy = \"epoch\",\n",
    "    learning_rate = 1e-4, \n",
    "    per_device_train_batch_size = BATCH_SIZE,\n",
    "    per_device_eval_batch_size = BATCH_SIZE,\n",
    "    num_train_epochs = EPOCHS,\n",
    "    weight_decay=1e-5,\n",
    "    logging_steps=50\n",
    ")"
   ]
  },
  {
   "cell_type": "code",
   "execution_count": 22,
   "id": "fce5ebfb-07e6-4c8e-86e0-314787814a48",
   "metadata": {},
   "outputs": [],
   "source": [
    "data_collator = DataCollatorForTokenClassification(tokenizer, padding=False)"
   ]
  },
  {
   "cell_type": "code",
   "execution_count": 23,
   "id": "ddb90951-4c87-4f60-b229-997e8bc507e5",
   "metadata": {
    "tags": []
   },
   "outputs": [],
   "source": [
    "def compute_metrics(p):\n",
    "    predictions, labels = p\n",
    "    predictions = np.argmax(predictions, axis=2)\n",
    "    \n",
    "    predictions_exclude_padding = [[p for (p, l) in zip(prediction, label) if l != -100] for prediction, label in zip(predictions, labels)]\n",
    "    labels_exclude_padding = [[l for (p, l) in zip(prediction, label) if l != -100] for prediction, label in zip(predictions, labels)]\n",
    "\n",
    "    flat_preds = [pred for sublist in predictions_exclude_padding for pred in sublist]\n",
    "    flat_labels = [label for sublist in labels_exclude_padding for label in sublist]\n",
    "    accuracy = accuracy_score(flat_labels, flat_preds)\n",
    "    f1 = f1_score(flat_labels, flat_preds)\n",
    "    \n",
    "    #print(classification_report(flat_labels, flat_preds))\n",
    "    \n",
    "    return {\"accuracy\": accuracy, \"f1\": f1}"
   ]
  },
  {
   "cell_type": "code",
   "execution_count": 24,
   "id": "7fc36864-ba37-4124-93ce-844167501c4e",
   "metadata": {},
   "outputs": [
    {
     "name": "stderr",
     "output_type": "stream",
     "text": [
      "/usr/local/jupyterhub/lib64/python3.10/site-packages/transformers/optimization.py:306: FutureWarning: This implementation of AdamW is deprecated and will be removed in a future version. Use the PyTorch implementation torch.optim.AdamW instead, or set `no_deprecation_warning=True` to disable this warning\n",
      "  warnings.warn(\n",
      "***** Running training *****\n",
      "  Num examples = 2968\n",
      "  Num Epochs = 2\n",
      "  Instantaneous batch size per device = 16\n",
      "  Total train batch size (w. parallel, distributed & accumulation) = 32\n",
      "  Gradient Accumulation steps = 1\n",
      "  Total optimization steps = 186\n",
      "  Number of trainable parameters = 109338626\n",
      "You're using a BertTokenizerFast tokenizer. Please note that with a fast tokenizer, using the `__call__` method is faster than using a method to encode the text followed by a call to the `pad` method to get a padded encoding.\n",
      "/usr/local/jupyterhub/lib64/python3.10/site-packages/torch/nn/parallel/_functions.py:68: UserWarning: Was asked to gather along dimension 0, but all input tensors were scalars; will instead unsqueeze and return a vector.\n",
      "  warnings.warn('Was asked to gather along dimension 0, but all '\n"
     ]
    },
    {
     "data": {
      "text/html": [
       "\n",
       "    <div>\n",
       "      \n",
       "      <progress value='186' max='186' style='width:300px; height:20px; vertical-align: middle;'></progress>\n",
       "      [186/186 01:01, Epoch 2/2]\n",
       "    </div>\n",
       "    <table border=\"1\" class=\"dataframe\">\n",
       "  <thead>\n",
       " <tr style=\"text-align: left;\">\n",
       "      <th>Epoch</th>\n",
       "      <th>Training Loss</th>\n",
       "      <th>Validation Loss</th>\n",
       "      <th>Accuracy</th>\n",
       "      <th>F1</th>\n",
       "    </tr>\n",
       "  </thead>\n",
       "  <tbody>\n",
       "    <tr>\n",
       "      <td>1</td>\n",
       "      <td>0.223000</td>\n",
       "      <td>0.121286</td>\n",
       "      <td>0.956951</td>\n",
       "      <td>0.883448</td>\n",
       "    </tr>\n",
       "    <tr>\n",
       "      <td>2</td>\n",
       "      <td>0.075000</td>\n",
       "      <td>0.112498</td>\n",
       "      <td>0.962109</td>\n",
       "      <td>0.901212</td>\n",
       "    </tr>\n",
       "  </tbody>\n",
       "</table><p>"
      ],
      "text/plain": [
       "<IPython.core.display.HTML object>"
      ]
     },
     "metadata": {},
     "output_type": "display_data"
    },
    {
     "name": "stderr",
     "output_type": "stream",
     "text": [
      "***** Running Evaluation *****\n",
      "  Num examples = 371\n",
      "  Batch size = 32\n",
      "/usr/local/jupyterhub/lib64/python3.10/site-packages/torch/nn/parallel/_functions.py:68: UserWarning: Was asked to gather along dimension 0, but all input tensors were scalars; will instead unsqueeze and return a vector.\n",
      "  warnings.warn('Was asked to gather along dimension 0, but all '\n",
      "***** Running Evaluation *****\n",
      "  Num examples = 371\n",
      "  Batch size = 32\n",
      "\n",
      "\n",
      "Training completed. Do not forget to share your model on huggingface.co/models =)\n",
      "\n",
      "\n"
     ]
    },
    {
     "data": {
      "text/plain": [
       "TrainOutput(global_step=186, training_loss=0.12998327516740368, metrics={'train_runtime': 63.2522, 'train_samples_per_second': 93.847, 'train_steps_per_second': 2.941, 'total_flos': 996675650951232.0, 'train_loss': 0.12998327516740368, 'epoch': 2.0})"
      ]
     },
     "execution_count": 24,
     "metadata": {},
     "output_type": "execute_result"
    }
   ],
   "source": [
    "trainer = Trainer(\n",
    "    model,\n",
    "    args,\n",
    "    train_dataset=train_tokenized_datasets,\n",
    "    eval_dataset=val_tokenized_datasets,\n",
    "    data_collator=data_collator,\n",
    "    tokenizer=tokenizer,\n",
    "    compute_metrics=compute_metrics\n",
    ")\n",
    "\n",
    "trainer.train()"
   ]
  },
  {
   "cell_type": "code",
   "execution_count": 25,
   "id": "c8c9e48f-4d6f-4088-b37b-95830777608e",
   "metadata": {},
   "outputs": [
    {
     "name": "stderr",
     "output_type": "stream",
     "text": [
      "***** Running Evaluation *****\n",
      "  Num examples = 371\n",
      "  Batch size = 32\n",
      "/usr/local/jupyterhub/lib64/python3.10/site-packages/torch/nn/parallel/_functions.py:68: UserWarning: Was asked to gather along dimension 0, but all input tensors were scalars; will instead unsqueeze and return a vector.\n",
      "  warnings.warn('Was asked to gather along dimension 0, but all '\n"
     ]
    },
    {
     "data": {
      "text/html": [],
      "text/plain": [
       "<IPython.core.display.HTML object>"
      ]
     },
     "metadata": {},
     "output_type": "display_data"
    },
    {
     "data": {
      "text/plain": [
       "{'eval_loss': 0.11249785870313644,\n",
       " 'eval_accuracy': 0.9621091511176209,\n",
       " 'eval_f1': 0.901212020587747,\n",
       " 'eval_runtime': 1.4551,\n",
       " 'eval_samples_per_second': 254.966,\n",
       " 'eval_steps_per_second': 8.247,\n",
       " 'epoch': 2.0}"
      ]
     },
     "execution_count": 25,
     "metadata": {},
     "output_type": "execute_result"
    }
   ],
   "source": [
    "trainer.evaluate()"
   ]
  },
  {
   "cell_type": "markdown",
   "id": "5b58eeb6-f29e-41d7-bf06-5263d51e3398",
   "metadata": {},
   "source": [
    "# 4. Evaluation"
   ]
  },
  {
   "cell_type": "code",
   "execution_count": 26,
   "id": "dcbe8198-2eda-43b7-9e98-bebf38312bb2",
   "metadata": {},
   "outputs": [
    {
     "name": "stderr",
     "output_type": "stream",
     "text": [
      "***** Running Prediction *****\n",
      "  Num examples = 372\n",
      "  Batch size = 32\n",
      "/usr/local/jupyterhub/lib64/python3.10/site-packages/torch/nn/parallel/_functions.py:68: UserWarning: Was asked to gather along dimension 0, but all input tensors were scalars; will instead unsqueeze and return a vector.\n",
      "  warnings.warn('Was asked to gather along dimension 0, but all '\n"
     ]
    },
    {
     "name": "stdout",
     "output_type": "stream",
     "text": [
      "Accuracy: \n",
      "0.9641677572131863\n",
      "\n",
      "Precision: \n",
      "0.8981366459627329\n",
      "\n",
      "Recall: \n",
      "0.9213125199107997\n",
      "\n",
      "F1: \n",
      "0.9095769775121875\n",
      "\n",
      "Classification Report: \n",
      "              precision    recall  f1-score   support\n",
      "\n",
      "           0       0.98      0.97      0.98     12908\n",
      "           1       0.90      0.92      0.91      3139\n",
      "\n",
      "    accuracy                           0.96     16047\n",
      "   macro avg       0.94      0.95      0.94     16047\n",
      "weighted avg       0.96      0.96      0.96     16047\n",
      "\n"
     ]
    }
   ],
   "source": [
    "predictions, labels, _ = trainer.predict(test_tokenized_datasets)\n",
    "predictions = np.argmax(predictions, axis=2)\n",
    "\n",
    "predictions_exclude_padding = [[p for (p, l) in zip(prediction, label) if l != -100] for prediction, label in zip(predictions, labels)]\n",
    "labels_exclude_padding = [[l for (p, l) in zip(prediction, label) if l != -100] for prediction, label in zip(predictions, labels)]\n",
    "\n",
    "flat_preds = [pred for sublist in predictions_exclude_padding for pred in sublist]\n",
    "flat_labels = [label for sublist in labels_exclude_padding for label in sublist]\n",
    "\n",
    "print(\"Accuracy: \")\n",
    "print(accuracy_score(flat_labels, flat_preds))\n",
    "print()\n",
    "\n",
    "print(\"Precision: \")\n",
    "print(precision_score(flat_labels, flat_preds))\n",
    "print()\n",
    "\n",
    "print(\"Recall: \")\n",
    "print(recall_score(flat_labels, flat_preds))\n",
    "print()\n",
    "\n",
    "print(\"F1: \")\n",
    "print(f1_score(flat_labels, flat_preds))\n",
    "print()\n",
    "\n",
    "print(\"Classification Report: \")\n",
    "print(classification_report(flat_labels, flat_preds))"
   ]
  },
  {
   "cell_type": "code",
   "execution_count": 27,
   "id": "851fc60e-4fa6-4f72-b4f8-a42b6eb37ab1",
   "metadata": {},
   "outputs": [
    {
     "data": {
      "image/png": "[encoded data removed]",
      "text/plain": [
       "<Figure size 640x480 with 2 Axes>"
      ]
     },
     "metadata": {},
     "output_type": "display_data"
    }
   ],
   "source": [
    "tick_labels = [\"Non-Reference\", \"Reference\"]\n",
    "\n",
    "cm = confusion_matrix(flat_labels, flat_preds)\n",
    "sns.heatmap(cm, annot=True, fmt=\"d\", cmap=\"GnBu\", yticklabels=tick_labels, xticklabels=tick_labels, annot_kws={'fontsize': 12})\n",
    "\n",
    "plt.savefig(\"./results/confusion_matrix_\" + MODE + \".pdf\")"
   ]
  },
  {
   "cell_type": "markdown",
   "id": "be8bdc07-ad1d-4fc1-a4fe-35bd5a1db6ce",
   "metadata": {},
   "source": [
    "**Get prediction results:**"
   ]
  },
  {
   "cell_type": "code",
   "execution_count": 28,
   "id": "34e794cd-d642-4020-8f52-a86a81b0c877",
   "metadata": {
    "tags": []
   },
   "outputs": [],
   "source": [
    "all_text_ids = []\n",
    "all_tokens = []\n",
    "all_pred = []\n",
    "all_true = []\n",
    "\n",
    "for i in range(len(test_tokenized_datasets)):\n",
    "    current_tokens = tokenizer.convert_ids_to_tokens(test_tokenized_datasets['input_ids'][i], skip_special_tokens=False)\n",
    "    \n",
    "    all_tokens += current_tokens\n",
    "    all_text_ids += [i] * len(current_tokens)\n",
    "    all_pred += list(predictions[i])\n",
    "    all_true += list(labels[i])\n",
    "\n",
    "    if len(current_tokens) != len(predictions[i]):\n",
    "        print(i)\n",
    "        #print(curren_tokens)\n",
    "        #print(predictions_exclude_padding[i])\n",
    "        #print(labels_exclude_padding[i])\n",
    "        print(\"--------\")\n",
    "        print()"
   ]
  },
  {
   "cell_type": "code",
   "execution_count": 29,
   "id": "f9626f6c-bd12-4580-8aed-d2cb468131d2",
   "metadata": {},
   "outputs": [
    {
     "data": {
      "text/html": [
       "<div>\n",
       "<style scoped>\n",
       "    .dataframe tbody tr th:only-of-type {\n",
       "        vertical-align: middle;\n",
       "    }\n",
       "\n",
       "    .dataframe tbody tr th {\n",
       "        vertical-align: top;\n",
       "    }\n",
       "\n",
       "    .dataframe thead th {\n",
       "        text-align: right;\n",
       "    }\n",
       "</style>\n",
       "<table border=\"1\" class=\"dataframe\">\n",
       "  <thead>\n",
       "    <tr style=\"text-align: right;\">\n",
       "      <th></th>\n",
       "      <th>document_id</th>\n",
       "      <th>tokens</th>\n",
       "      <th>pred</th>\n",
       "      <th>true</th>\n",
       "    </tr>\n",
       "  </thead>\n",
       "  <tbody>\n",
       "    <tr>\n",
       "      <th>0</th>\n",
       "      <td>0</td>\n",
       "      <td>[CLS]</td>\n",
       "      <td>0</td>\n",
       "      <td>-100</td>\n",
       "    </tr>\n",
       "    <tr>\n",
       "      <th>1</th>\n",
       "      <td>0</td>\n",
       "      <td>Per</td>\n",
       "      <td>1</td>\n",
       "      <td>1</td>\n",
       "    </tr>\n",
       "    <tr>\n",
       "      <th>2</th>\n",
       "      <td>0</td>\n",
       "      <td>i</td>\n",
       "      <td>1</td>\n",
       "      <td>1</td>\n",
       "    </tr>\n",
       "    <tr>\n",
       "      <th>3</th>\n",
       "      <td>0</td>\n",
       "      <td>giornalisti</td>\n",
       "      <td>1</td>\n",
       "      <td>1</td>\n",
       "    </tr>\n",
       "    <tr>\n",
       "      <th>4</th>\n",
       "      <td>0</td>\n",
       "      <td>,</td>\n",
       "      <td>0</td>\n",
       "      <td>0</td>\n",
       "    </tr>\n",
       "    <tr>\n",
       "      <th>...</th>\n",
       "      <td>...</td>\n",
       "      <td>...</td>\n",
       "      <td>...</td>\n",
       "      <td>...</td>\n",
       "    </tr>\n",
       "    <tr>\n",
       "      <th>122383</th>\n",
       "      <td>371</td>\n",
       "      <td>[PAD]</td>\n",
       "      <td>0</td>\n",
       "      <td>-100</td>\n",
       "    </tr>\n",
       "    <tr>\n",
       "      <th>122384</th>\n",
       "      <td>371</td>\n",
       "      <td>[PAD]</td>\n",
       "      <td>0</td>\n",
       "      <td>-100</td>\n",
       "    </tr>\n",
       "    <tr>\n",
       "      <th>122385</th>\n",
       "      <td>371</td>\n",
       "      <td>[PAD]</td>\n",
       "      <td>0</td>\n",
       "      <td>-100</td>\n",
       "    </tr>\n",
       "    <tr>\n",
       "      <th>122386</th>\n",
       "      <td>371</td>\n",
       "      <td>[PAD]</td>\n",
       "      <td>0</td>\n",
       "      <td>-100</td>\n",
       "    </tr>\n",
       "    <tr>\n",
       "      <th>122387</th>\n",
       "      <td>371</td>\n",
       "      <td>[PAD]</td>\n",
       "      <td>0</td>\n",
       "      <td>-100</td>\n",
       "    </tr>\n",
       "  </tbody>\n",
       "</table>\n",
       "<p>122388 rows × 4 columns</p>\n",
       "</div>"
      ],
      "text/plain": [
       "        document_id       tokens  pred  true\n",
       "0                 0        [CLS]     0  -100\n",
       "1                 0          Per     1     1\n",
       "2                 0            i     1     1\n",
       "3                 0  giornalisti     1     1\n",
       "4                 0            ,     0     0\n",
       "...             ...          ...   ...   ...\n",
       "122383          371        [PAD]     0  -100\n",
       "122384          371        [PAD]     0  -100\n",
       "122385          371        [PAD]     0  -100\n",
       "122386          371        [PAD]     0  -100\n",
       "122387          371        [PAD]     0  -100\n",
       "\n",
       "[122388 rows x 4 columns]"
      ]
     },
     "execution_count": 29,
     "metadata": {},
     "output_type": "execute_result"
    }
   ],
   "source": [
    "df_pred = pd.DataFrame({\n",
    "    \"document_id\": all_text_ids,\n",
    "    \"tokens\": all_tokens,\n",
    "    \"pred\": all_pred,\n",
    "    \"true\": all_true\n",
    "})\n",
    "\n",
    "df_pred"
   ]
  },
  {
   "cell_type": "code",
   "execution_count": 33,
   "id": "ad2107b3-5ba7-4b06-a7ee-7df418412d1b",
   "metadata": {},
   "outputs": [],
   "source": [
    "df_pred.to_csv(\"./results/all_predictions.csv\")"
   ]
  },
  {
   "cell_type": "markdown",
   "id": "8d2dd4f4-22e7-42ff-9f0c-fa1b33f6c902",
   "metadata": {},
   "source": [
    "**Get false positives:**"
   ]
  },
  {
   "cell_type": "code",
   "execution_count": 30,
   "id": "d53bd8b2-14c7-4572-9ea8-30bc8533b475",
   "metadata": {},
   "outputs": [],
   "source": [
    "df_pred_fp = df_pred[(df_pred['pred'] == 1) & (df_pred['true'] == 0)]\n",
    "df_pred_fp.to_csv(\"./results/false_positives.csv\")"
   ]
  },
  {
   "cell_type": "markdown",
   "id": "f6e18209-c775-4be7-9a26-7d58cda6a8bd",
   "metadata": {},
   "source": [
    "**Get false negatives:**"
   ]
  },
  {
   "cell_type": "code",
   "execution_count": 31,
   "id": "ffe224f1-706c-443d-a832-9af9247d1769",
   "metadata": {},
   "outputs": [],
   "source": [
    "df_pred_fn = df_pred[(df_pred['pred'] == 0) & (df_pred['true'] == 1)]\n",
    "df_pred_fn.to_csv(\"./results/false_negatives.csv\")"
   ]
  }
 ],
 "metadata": {
  "kernelspec": {
   "display_name": "Python 3 (ipykernel)",
   "language": "python",
   "name": "python3"
  },
  "language_info": {
   "codemirror_mode": {
    "name": "ipython",
    "version": 3
   },
   "file_extension": ".py",
   "mimetype": "text/x-python",
   "name": "python",
   "nbconvert_exporter": "python",
   "pygments_lexer": "ipython3",
   "version": "3.10.13"
  }
 },
 "nbformat": 4,
 "nbformat_minor": 5
}
